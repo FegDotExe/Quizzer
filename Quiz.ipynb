{
 "cells": [
  {
   "cell_type": "code",
   "execution_count": 2,
   "metadata": {},
   "outputs": [],
   "source": [
    "tester=Quizzer.TestClass(\"math\")\n",
    "tester.clearStats()"
   ]
  },
  {
   "cell_type": "markdown",
   "metadata": {},
   "source": [
    "# Actual quiz"
   ]
  },
  {
   "cell_type": "markdown",
   "metadata": {},
   "source": [
    "## Standard quiz"
   ]
  },
  {
   "cell_type": "code",
   "execution_count": null,
   "metadata": {},
   "outputs": [],
   "source": [
    "import Quizzer\n",
    "\n",
    "tester=Quizzer.TestClass(\"math\",mode=Quizzer.COMPLETEPOOL)\n",
    "\n",
    "result=None\n",
    "while result!=0:\n",
    "    result=tester.getUniqueQuestion()\n",
    "\n",
    "tester.elaborateResults()"
   ]
  },
  {
   "cell_type": "markdown",
   "metadata": {},
   "source": [
    "## Revise the most difficult questions"
   ]
  },
  {
   "cell_type": "code",
   "execution_count": 1,
   "metadata": {
    "tags": []
   },
   "outputs": [
    {
     "data": {
      "text/latex": [
       "2/5 - 40.0%"
      ],
      "text/plain": [
       "<IPython.core.display.Latex object>"
      ]
     },
     "metadata": {},
     "output_type": "display_data"
    },
    {
     "data": {
      "text/markdown": [
       "# Corrette"
      ],
      "text/plain": [
       "<IPython.core.display.Markdown object>"
      ]
     },
     "metadata": {},
     "output_type": "display_data"
    },
    {
     "data": {
      "text/markdown": [
       "## Per duplicazione, a cosa equivale $\\cos^2(\\alpha)$?\n",
       "\n",
       "**Risposta:** $\\cos(2\\alpha)+\\sin^2(\\alpha)$\n",
       "\n",
       "*Risposte corrette a questa domanda:* 1/3 - 33.333333333333336%"
      ],
      "text/plain": [
       "<IPython.core.display.Markdown object>"
      ]
     },
     "metadata": {},
     "output_type": "display_data"
    },
    {
     "data": {
      "text/markdown": [
       "## Per prostrasferesi, a cosa equivale $\\cos(\\alpha)-\\cos(\\beta)$?\n",
       "\n",
       "**Risposta:** $2\\sin(\\frac{\\alpha+\\beta}{2})\\sin(\\frac{\\alpha-\\beta}{2})$\n",
       "\n",
       "*Risposte corrette a questa domanda:* 1/4 - 25.0%"
      ],
      "text/plain": [
       "<IPython.core.display.Markdown object>"
      ]
     },
     "metadata": {},
     "output_type": "display_data"
    },
    {
     "data": {
      "text/markdown": [
       "# Sbagliate"
      ],
      "text/plain": [
       "<IPython.core.display.Markdown object>"
      ]
     },
     "metadata": {},
     "output_type": "display_data"
    },
    {
     "data": {
      "text/markdown": [
       "## Per prostrasferesi, a cosa equivale $\\cos(\\alpha)+\\cos(\\beta)$?\n",
       "\n",
       "**Risposta:** $2\\cos(\\frac{\\alpha+\\beta}{2})\\cos(\\frac{\\alpha-\\beta}{2})$\n",
       "\n",
       "*Risposte corrette a questa domanda:* 0/2 - 0.0%"
      ],
      "text/plain": [
       "<IPython.core.display.Markdown object>"
      ]
     },
     "metadata": {},
     "output_type": "display_data"
    },
    {
     "data": {
      "text/markdown": [
       "## Per prostrasferesi, a cosa equivale $\\sin(\\alpha)+\\sin(\\beta)$?\n",
       "\n",
       "**Risposta:** $2\\sin(\\frac{\\alpha+\\beta}{2})\\cos(\\frac{\\alpha-\\beta}{2})$\n",
       "\n",
       "*Risposte corrette a questa domanda:* 0/3 - 0.0%"
      ],
      "text/plain": [
       "<IPython.core.display.Markdown object>"
      ]
     },
     "metadata": {},
     "output_type": "display_data"
    },
    {
     "data": {
      "text/markdown": [
       "## Per prostrasferesi, a cosa equivale $\\sin(\\alpha)-\\sin(\\beta)$?\n",
       "\n",
       "**Risposta:** $2\\cos(\\frac{\\alpha+\\beta}{2})\\sin(\\frac{\\alpha-\\beta}{2})$\n",
       "\n",
       "*Risposte corrette a questa domanda:* 0/4 - 0.0%"
      ],
      "text/plain": [
       "<IPython.core.display.Markdown object>"
      ]
     },
     "metadata": {},
     "output_type": "display_data"
    }
   ],
   "source": [
    "import Quizzer\n",
    "\n",
    "tester=Quizzer.TestClass(\"feg\",mode=Quizzer.MOSTDIFFICULT)\n",
    "\n",
    "result=None\n",
    "while result!=0:\n",
    "    result=tester.getUniqueQuestion(mode=Quizzer.ORDERED)\n",
    "\n",
    "tester.elaborateResults()"
   ]
  },
  {
   "cell_type": "markdown",
   "metadata": {},
   "source": [
    "## Unanswered"
   ]
  },
  {
   "cell_type": "code",
   "execution_count": null,
   "metadata": {},
   "outputs": [],
   "source": [
    "import Quizzer\n",
    "\n",
    "tester=Quizzer.TestClass(\"math\",mode=Quizzer.UNANSWERED)\n",
    "\n",
    "result=None\n",
    "while result!=0:\n",
    "    result=tester.getUniqueQuestion()\n",
    "\n",
    "tester.elaborateResults()"
   ]
  },
  {
   "cell_type": "markdown",
   "metadata": {},
   "source": [
    "## Smart"
   ]
  },
  {
   "cell_type": "code",
   "execution_count": 1,
   "metadata": {},
   "outputs": [
    {
     "data": {
      "text/latex": [
       "2/5 - 40.0%"
      ],
      "text/plain": [
       "<IPython.core.display.Latex object>"
      ]
     },
     "metadata": {},
     "output_type": "display_data"
    },
    {
     "data": {
      "text/markdown": [
       "# Corrette"
      ],
      "text/plain": [
       "<IPython.core.display.Markdown object>"
      ]
     },
     "metadata": {},
     "output_type": "display_data"
    },
    {
     "data": {
      "text/markdown": [
       "## Per prostrasferesi, a cosa equivale $\\cos(\\alpha)+\\cos(\\beta)$?\n",
       "\n",
       "**Risposta:** $2\\cos(\\frac{\\alpha+\\beta}{2})\\cos(\\frac{\\alpha-\\beta}{2})$\n",
       "\n",
       "*Risposte corrette a questa domanda:* 1/3 - 33.333333333333336%"
      ],
      "text/plain": [
       "<IPython.core.display.Markdown object>"
      ]
     },
     "metadata": {},
     "output_type": "display_data"
    },
    {
     "data": {
      "text/markdown": [
       "## Per prostrasferesi, a cosa equivale $\\cos(\\alpha)-\\cos(\\beta)$?\n",
       "\n",
       "**Risposta:** $2\\sin(\\frac{\\alpha+\\beta}{2})\\sin(\\frac{\\alpha-\\beta}{2})$\n",
       "\n",
       "*Risposte corrette a questa domanda:* 2/5 - 40.0%"
      ],
      "text/plain": [
       "<IPython.core.display.Markdown object>"
      ]
     },
     "metadata": {},
     "output_type": "display_data"
    },
    {
     "data": {
      "text/markdown": [
       "# Sbagliate"
      ],
      "text/plain": [
       "<IPython.core.display.Markdown object>"
      ]
     },
     "metadata": {},
     "output_type": "display_data"
    },
    {
     "data": {
      "text/markdown": [
       "## A quale valore è uguale $1-\\cos^2(t)$?\n",
       "\n",
       "**Risposta:** $\\sin^2(t)$\n",
       "\n",
       "*Risposte corrette a questa domanda:* 0/1 - 0.0%"
      ],
      "text/plain": [
       "<IPython.core.display.Markdown object>"
      ]
     },
     "metadata": {},
     "output_type": "display_data"
    },
    {
     "data": {
      "text/markdown": [
       "## A quale valore di $\\cos$ è uguale $\\cos(-t)$?\n",
       "\n",
       "**Risposta:** $\\cos(t)$\n",
       "\n",
       "*Risposte corrette a questa domanda:* 1/2 - 50.0%"
      ],
      "text/plain": [
       "<IPython.core.display.Markdown object>"
      ]
     },
     "metadata": {},
     "output_type": "display_data"
    },
    {
     "data": {
      "text/markdown": [
       "## Come si risolve la disequazione $\\sqrt[n]{f(x)}\\le g(x)$ con $n$ pari?\n",
       "\n",
       "**Risposta:** $\\begin{cases}f(x)\\ge 0\\\\g(x)\\ge 0\\\\f(x)\\le g(x)^n\\end{cases}$\n",
       "\n",
       "*Risposte corrette a questa domanda:* 1/4 - 25.0%"
      ],
      "text/plain": [
       "<IPython.core.display.Markdown object>"
      ]
     },
     "metadata": {},
     "output_type": "display_data"
    }
   ],
   "source": [
    "import Quizzer\n",
    "\n",
    "tester=Quizzer.TestClass(\"feg\",mode=Quizzer.SMART)\n",
    "\n",
    "result=None\n",
    "while result!=0:\n",
    "    result=tester.getUniqueQuestion()\n",
    "\n",
    "tester.elaborateResults()"
   ]
  },
  {
   "cell_type": "markdown",
   "metadata": {},
   "source": [
    "## Report of answers"
   ]
  },
  {
   "cell_type": "code",
   "execution_count": 3,
   "metadata": {},
   "outputs": [
    {
     "data": {
      "text/markdown": [
       "## Per prostrasferesi, a cosa equivale $\\cos(\\alpha)+\\cos(\\beta)$?\n",
       "\n",
       "**Risposta:** $2\\cos(\\frac{\\alpha+\\beta}{2})\\cos(\\frac{\\alpha-\\beta}{2})$\n",
       "\n",
       "*Risposte corrette a questa domanda:* 0/2 - 0.0%"
      ],
      "text/plain": [
       "<IPython.core.display.Markdown object>"
      ]
     },
     "metadata": {},
     "output_type": "display_data"
    },
    {
     "data": {
      "text/markdown": [
       "## Per prostrasferesi, a cosa equivale $\\sin(\\alpha)+\\sin(\\beta)$?\n",
       "\n",
       "**Risposta:** $2\\sin(\\frac{\\alpha+\\beta}{2})\\cos(\\frac{\\alpha-\\beta}{2})$\n",
       "\n",
       "*Risposte corrette a questa domanda:* 0/3 - 0.0%"
      ],
      "text/plain": [
       "<IPython.core.display.Markdown object>"
      ]
     },
     "metadata": {},
     "output_type": "display_data"
    },
    {
     "data": {
      "text/markdown": [
       "## Come si risolve la disequazione $\\sqrt[n]{f(x)}<g(x)$ con $n$ pari?\n",
       "\n",
       "**Risposta:** $\\begin{cases}f(x)\\ge 0\\\\g(x)> 0\\\\f(x)<g(x)^n\\end{cases}$\n",
       "\n",
       "*Risposte corrette a questa domanda:* 0/1 - 0.0%"
      ],
      "text/plain": [
       "<IPython.core.display.Markdown object>"
      ]
     },
     "metadata": {},
     "output_type": "display_data"
    },
    {
     "data": {
      "text/markdown": [
       "## Per prostrasferesi, a cosa equivale $\\cos(\\alpha)-\\cos(\\beta)$?\n",
       "\n",
       "**Risposta:** $2\\sin(\\frac{\\alpha+\\beta}{2})\\sin(\\frac{\\alpha-\\beta}{2})$\n",
       "\n",
       "*Risposte corrette a questa domanda:* 1/4 - 25.0%"
      ],
      "text/plain": [
       "<IPython.core.display.Markdown object>"
      ]
     },
     "metadata": {},
     "output_type": "display_data"
    },
    {
     "data": {
      "text/markdown": [
       "## A quale valore è uguale $\\cos(\\alpha-\\beta)$?\n",
       "\n",
       "**Risposta:** $\\cos(\\alpha)\\cos(\\beta)+\\sin(\\alpha)\\sin(\\beta)$\n",
       "\n",
       "*Risposte corrette a questa domanda:* 1/3 - 33.333333333333336%"
      ],
      "text/plain": [
       "<IPython.core.display.Markdown object>"
      ]
     },
     "metadata": {},
     "output_type": "display_data"
    },
    {
     "data": {
      "text/markdown": [
       "## Per duplicazione, a cosa equivale $\\cos(2\\alpha)$?\n",
       "\n",
       "**Risposta:** $\\cos^2(\\alpha)-\\sin^2(\\alpha)$\n",
       "\n",
       "*Risposte corrette a questa domanda:* 1/3 - 33.333333333333336%"
      ],
      "text/plain": [
       "<IPython.core.display.Markdown object>"
      ]
     },
     "metadata": {},
     "output_type": "display_data"
    },
    {
     "data": {
      "text/markdown": [
       "## Per duplicazione, a cosa equivale $\\cos(\\alpha)$?\n",
       "\n",
       "**Risposta:** $\\cos^2(\\frac{\\alpha}{2})-\\sin^2(\\frac{\\alpha}{2})$\n",
       "\n",
       "*Risposte corrette a questa domanda:* 1/3 - 33.333333333333336%"
      ],
      "text/plain": [
       "<IPython.core.display.Markdown object>"
      ]
     },
     "metadata": {},
     "output_type": "display_data"
    },
    {
     "data": {
      "text/markdown": [
       "## Per duplicazione, a cosa equivale $\\cos(\\alpha)\\sin(\\alpha)$?\n",
       "\n",
       "**Risposta:** $\\frac{\\sin(2\\alpha)}{2}$\n",
       "\n",
       "*Risposte corrette a questa domanda:* 1/3 - 33.333333333333336%"
      ],
      "text/plain": [
       "<IPython.core.display.Markdown object>"
      ]
     },
     "metadata": {},
     "output_type": "display_data"
    },
    {
     "data": {
      "text/markdown": [
       "## Per duplicazione, a cosa equivale $\\cos^2(\\alpha)$?\n",
       "\n",
       "**Risposta:** $\\cos(2\\alpha)+\\sin^2(\\alpha)$\n",
       "\n",
       "*Risposte corrette a questa domanda:* 1/3 - 33.333333333333336%"
      ],
      "text/plain": [
       "<IPython.core.display.Markdown object>"
      ]
     },
     "metadata": {},
     "output_type": "display_data"
    },
    {
     "data": {
      "text/markdown": [
       "## Per prostrasferesi, a cosa equivale $\\sin(\\alpha)-\\sin(\\beta)$?\n",
       "\n",
       "**Risposta:** $2\\cos(\\frac{\\alpha+\\beta}{2})\\sin(\\frac{\\alpha-\\beta}{2})$\n",
       "\n",
       "*Risposte corrette a questa domanda:* 2/6 - 33.333333333333336%"
      ],
      "text/plain": [
       "<IPython.core.display.Markdown object>"
      ]
     },
     "metadata": {},
     "output_type": "display_data"
    },
    {
     "data": {
      "text/markdown": [
       "## Come si risolve la disequazione $\\sqrt[n]{f(x)}\\le g(x)$ con $n$ pari?\n",
       "\n",
       "**Risposta:** $\\begin{cases}f(x)\\ge 0\\\\g(x)\\ge 0\\\\f(x)\\le g(x)^n\\end{cases}$\n",
       "\n",
       "*Risposte corrette a questa domanda:* 1/3 - 33.333333333333336%"
      ],
      "text/plain": [
       "<IPython.core.display.Markdown object>"
      ]
     },
     "metadata": {},
     "output_type": "display_data"
    },
    {
     "data": {
      "text/markdown": [
       "## Quanto vale $\\lim\\limits_{x\\to0}\\frac{a^{\\beta x}-1}{x}$?\n",
       "\n",
       "**Risposta:** $\\beta\\log a$\n",
       "\n",
       "*Risposte corrette a questa domanda:* 2/5 - 40.0%"
      ],
      "text/plain": [
       "<IPython.core.display.Markdown object>"
      ]
     },
     "metadata": {},
     "output_type": "display_data"
    },
    {
     "data": {
      "text/markdown": [
       "## Quanto vale $\\lim\\limits_{x\\to0}\\frac{\\log_a(1+x)}{x}$?\n",
       "\n",
       "**Risposta:** $\\log_a e$\n",
       "\n",
       "*Risposte corrette a questa domanda:* 2/5 - 40.0%"
      ],
      "text/plain": [
       "<IPython.core.display.Markdown object>"
      ]
     },
     "metadata": {},
     "output_type": "display_data"
    },
    {
     "data": {
      "text/markdown": [
       "## A quale valore è uguale $\\cos(\\alpha+\\beta)$?\n",
       "\n",
       "**Risposta:** $\\cos(\\alpha)\\cos(\\beta)-\\sin(\\alpha)\\sin(\\beta)$\n",
       "\n",
       "*Risposte corrette a questa domanda:* 2/5 - 40.0%"
      ],
      "text/plain": [
       "<IPython.core.display.Markdown object>"
      ]
     },
     "metadata": {},
     "output_type": "display_data"
    },
    {
     "data": {
      "text/markdown": [
       "## Quanto vale $\\lim\\limits_{x\\to0}\\frac{(1+x)^\\alpha-1}{x}$?\n",
       "\n",
       "**Risposta:** $\\alpha$\n",
       "\n",
       "*Risposte corrette a questa domanda:* 2/4 - 50.0%"
      ],
      "text/plain": [
       "<IPython.core.display.Markdown object>"
      ]
     },
     "metadata": {},
     "output_type": "display_data"
    },
    {
     "data": {
      "text/markdown": [
       "## Quanto vale $\\lim\\limits_{x\\to0}\\log_a(1+x)$?\n",
       "\n",
       "**Risposta:** $x\\log_ae+o(x)$\n",
       "\n",
       "*Risposte corrette a questa domanda:* 2/4 - 50.0%"
      ],
      "text/plain": [
       "<IPython.core.display.Markdown object>"
      ]
     },
     "metadata": {},
     "output_type": "display_data"
    },
    {
     "data": {
      "text/markdown": [
       "## A quale valore di $\\sin$ è uguale $\\cos(t+\\frac{\\pi}{2})$?\n",
       "\n",
       "**Risposta:** $-\\sin(t)$\n",
       "\n",
       "*Risposte corrette a questa domanda:* 1/2 - 50.0%"
      ],
      "text/plain": [
       "<IPython.core.display.Markdown object>"
      ]
     },
     "metadata": {},
     "output_type": "display_data"
    },
    {
     "data": {
      "text/markdown": [
       "## A quale valore è uguale $\\cos^2(t)+\\sin^2(t)$?\n",
       "\n",
       "**Risposta:** $1$\n",
       "\n",
       "*Risposte corrette a questa domanda:* 1/2 - 50.0%"
      ],
      "text/plain": [
       "<IPython.core.display.Markdown object>"
      ]
     },
     "metadata": {},
     "output_type": "display_data"
    },
    {
     "data": {
      "text/markdown": [
       "## A quale valore è uguale $\\sin(\\alpha+\\beta)$?\n",
       "\n",
       "**Risposta:** $\\sin(\\alpha)\\cos(\\beta)+\\cos(\\alpha)\\sin(\\beta)$\n",
       "\n",
       "*Risposte corrette a questa domanda:* 1/2 - 50.0%"
      ],
      "text/plain": [
       "<IPython.core.display.Markdown object>"
      ]
     },
     "metadata": {},
     "output_type": "display_data"
    },
    {
     "data": {
      "text/markdown": [
       "## Come si risolve la disequazione $\\sqrt[n]{f(x)}\\ge g(x)$ con $n$ pari?\n",
       "\n",
       "**Risposta:** $\\begin{cases}g(x)\\ge 0\\\\f(x)\\ge g(x)^n\\end{cases}$\n",
       "\n",
       "*Risposte corrette a questa domanda:* 1/2 - 50.0%"
      ],
      "text/plain": [
       "<IPython.core.display.Markdown object>"
      ]
     },
     "metadata": {},
     "output_type": "display_data"
    },
    {
     "data": {
      "text/markdown": [
       "## A quale valore di $\\cos$ è uguale $\\cos(\\pi -t)$?\n",
       "\n",
       "**Risposta:** $-\\cos(t)$\n",
       "\n",
       "*Risposte corrette a questa domanda:* 2/3 - 66.66666666666667%"
      ],
      "text/plain": [
       "<IPython.core.display.Markdown object>"
      ]
     },
     "metadata": {},
     "output_type": "display_data"
    },
    {
     "data": {
      "text/markdown": [
       "## Quanto vale $\\lim\\limits_{x\\to0}\\frac{\\tan x-\\sin x}{x^3}$?\n",
       "\n",
       "**Risposta:** $\\frac{1}{2}$\n",
       "\n",
       "*Risposte corrette a questa domanda:* 5/7 - 71.42857142857143%"
      ],
      "text/plain": [
       "<IPython.core.display.Markdown object>"
      ]
     },
     "metadata": {},
     "output_type": "display_data"
    },
    {
     "data": {
      "text/markdown": [
       "## Quanto vale $\\lim\\limits_{x\\to0}\\frac{\\sin x}{x}$?\n",
       "\n",
       "**Risposta:** $1$\n",
       "\n",
       "*Risposte corrette a questa domanda:* 3/4 - 75.0%"
      ],
      "text/plain": [
       "<IPython.core.display.Markdown object>"
      ]
     },
     "metadata": {},
     "output_type": "display_data"
    },
    {
     "data": {
      "text/markdown": [
       "## Quanto vale $\\lim\\limits_{x\\to0}\\frac{\\arcsin x}{x}$?\n",
       "\n",
       "**Risposta:** $1$\n",
       "\n",
       "*Risposte corrette a questa domanda:* 3/3 - 100.0%"
      ],
      "text/plain": [
       "<IPython.core.display.Markdown object>"
      ]
     },
     "metadata": {},
     "output_type": "display_data"
    },
    {
     "data": {
      "text/markdown": [
       "## Quanto vale $\\lim\\limits_{x\\to0}\\frac{\\sinh x}{x}$?\n",
       "\n",
       "**Risposta:** $1$\n",
       "\n",
       "*Risposte corrette a questa domanda:* 3/3 - 100.0%"
      ],
      "text/plain": [
       "<IPython.core.display.Markdown object>"
      ]
     },
     "metadata": {},
     "output_type": "display_data"
    },
    {
     "data": {
      "text/markdown": [
       "## Quanto vale $\\lim\\limits_{x\\to0}\\frac{1-\\cos x}{x^2}$?\n",
       "\n",
       "**Risposta:** $\\frac{1}{2}$\n",
       "\n",
       "*Risposte corrette a questa domanda:* 4/4 - 100.0%"
      ],
      "text/plain": [
       "<IPython.core.display.Markdown object>"
      ]
     },
     "metadata": {},
     "output_type": "display_data"
    },
    {
     "data": {
      "text/markdown": [
       "## Quanto vale $\\lim\\limits_{x\\to0}\\frac{\\tan x}{x}$?\n",
       "\n",
       "**Risposta:** $1$\n",
       "\n",
       "*Risposte corrette a questa domanda:* 2/2 - 100.0%"
      ],
      "text/plain": [
       "<IPython.core.display.Markdown object>"
      ]
     },
     "metadata": {},
     "output_type": "display_data"
    },
    {
     "data": {
      "text/markdown": [
       "## Quanto vale $\\lim\\limits_{x\\to\\infty}(1+\\frac{1}{x})^x$?\n",
       "\n",
       "**Risposta:** $e$\n",
       "\n",
       "*Risposte corrette a questa domanda:* 3/3 - 100.0%"
      ],
      "text/plain": [
       "<IPython.core.display.Markdown object>"
      ]
     },
     "metadata": {},
     "output_type": "display_data"
    },
    {
     "data": {
      "text/markdown": [
       "## Quanto vale $\\lim\\limits_{x\\to0}\\frac{a^x-1}{x}$?\n",
       "\n",
       "**Risposta:** $\\log a$\n",
       "\n",
       "*Risposte corrette a questa domanda:* 2/2 - 100.0%"
      ],
      "text/plain": [
       "<IPython.core.display.Markdown object>"
      ]
     },
     "metadata": {},
     "output_type": "display_data"
    },
    {
     "data": {
      "text/markdown": [
       "## Quanto vale $\\lim\\limits_{x\\to+\\infty}\\frac{x^\\alpha}{\\log^\\beta x}$?\n",
       "\n",
       "**Risposta:** $+\\infty$\n",
       "\n",
       "*Risposte corrette a questa domanda:* 4/4 - 100.0%"
      ],
      "text/plain": [
       "<IPython.core.display.Markdown object>"
      ]
     },
     "metadata": {},
     "output_type": "display_data"
    },
    {
     "data": {
      "text/markdown": [
       "## Quanto vale $\\lim\\limits_{x\\to0}\\tan x-\\sin x$?\n",
       "\n",
       "**Risposta:** $\\frac{1}{2}x^3+o(x^3)$\n",
       "\n",
       "*Risposte corrette a questa domanda:* 3/3 - 100.0%"
      ],
      "text/plain": [
       "<IPython.core.display.Markdown object>"
      ]
     },
     "metadata": {},
     "output_type": "display_data"
    },
    {
     "data": {
      "text/markdown": [
       "## Quanto vale $\\lim\\limits_{x\\to0}1-\\cos x$?\n",
       "\n",
       "**Risposta:** $\\frac{1}{2}x^2+o(x^2)$\n",
       "\n",
       "*Risposte corrette a questa domanda:* 4/4 - 100.0%"
      ],
      "text/plain": [
       "<IPython.core.display.Markdown object>"
      ]
     },
     "metadata": {},
     "output_type": "display_data"
    },
    {
     "data": {
      "text/markdown": [
       "## Quanto vale $\\lim\\limits_{x\\to0}\\sin x$?\n",
       "\n",
       "**Risposta:** $x+o(x)$\n",
       "\n",
       "*Risposte corrette a questa domanda:* 2/2 - 100.0%"
      ],
      "text/plain": [
       "<IPython.core.display.Markdown object>"
      ]
     },
     "metadata": {},
     "output_type": "display_data"
    },
    {
     "data": {
      "text/markdown": [
       "## A quale valore di $\\sin$ è uguale $\\sin(-t)$?\n",
       "\n",
       "**Risposta:** $-\\sin(t)$\n",
       "\n",
       "*Risposte corrette a questa domanda:* 5/5 - 100.0%"
      ],
      "text/plain": [
       "<IPython.core.display.Markdown object>"
      ]
     },
     "metadata": {},
     "output_type": "display_data"
    },
    {
     "data": {
      "text/markdown": [
       "## A quale valore di $\\cos$ è uguale $\\cos(-t)$?\n",
       "\n",
       "**Risposta:** $\\cos(t)$\n",
       "\n",
       "*Risposte corrette a questa domanda:* 1/1 - 100.0%"
      ],
      "text/plain": [
       "<IPython.core.display.Markdown object>"
      ]
     },
     "metadata": {},
     "output_type": "display_data"
    },
    {
     "data": {
      "text/markdown": [
       "## A quale valore di $\\tan$ è uguale $\\tan(-t)$?\n",
       "\n",
       "**Risposta:** $-\\tan(t)$\n",
       "\n",
       "*Risposte corrette a questa domanda:* 1/1 - 100.0%"
      ],
      "text/plain": [
       "<IPython.core.display.Markdown object>"
      ]
     },
     "metadata": {},
     "output_type": "display_data"
    },
    {
     "data": {
      "text/markdown": [
       "## A quale valore di $\\cot$ è uguale $\\cot(-t)$?\n",
       "\n",
       "**Risposta:** $-\\cot(t)$\n",
       "\n",
       "*Risposte corrette a questa domanda:* 1/1 - 100.0%"
      ],
      "text/plain": [
       "<IPython.core.display.Markdown object>"
      ]
     },
     "metadata": {},
     "output_type": "display_data"
    },
    {
     "data": {
      "text/markdown": [
       "## A quale valore di $\\sin$ è uguale $\\sin(t+\\pi)$?\n",
       "\n",
       "**Risposta:** $-\\sin(t)$\n",
       "\n",
       "*Risposte corrette a questa domanda:* 1/1 - 100.0%"
      ],
      "text/plain": [
       "<IPython.core.display.Markdown object>"
      ]
     },
     "metadata": {},
     "output_type": "display_data"
    },
    {
     "data": {
      "text/markdown": [
       "## A quale valore di $\\cos$ è uguale $\\cos(t+\\pi)$?\n",
       "\n",
       "**Risposta:** $-\\cos(t)$\n",
       "\n",
       "*Risposte corrette a questa domanda:* 2/2 - 100.0%"
      ],
      "text/plain": [
       "<IPython.core.display.Markdown object>"
      ]
     },
     "metadata": {},
     "output_type": "display_data"
    },
    {
     "data": {
      "text/markdown": [
       "## A quale valore di $\\sin$ è uguale $\\sin(\\pi -t)$?\n",
       "\n",
       "**Risposta:** $\\sin(t)$\n",
       "\n",
       "*Risposte corrette a questa domanda:* 1/1 - 100.0%"
      ],
      "text/plain": [
       "<IPython.core.display.Markdown object>"
      ]
     },
     "metadata": {},
     "output_type": "display_data"
    },
    {
     "data": {
      "text/markdown": [
       "## A quale valore di $\\cos$ è uguale $\\sin(t+\\frac{\\pi}{2})$?\n",
       "\n",
       "**Risposta:** $\\cos(t)$\n",
       "\n",
       "*Risposte corrette a questa domanda:* 2/2 - 100.0%"
      ],
      "text/plain": [
       "<IPython.core.display.Markdown object>"
      ]
     },
     "metadata": {},
     "output_type": "display_data"
    },
    {
     "data": {
      "text/markdown": [
       "## A quale valore è uguale $1-\\sin^2(t)$?\n",
       "\n",
       "**Risposta:** $\\cos^2(t)$\n",
       "\n",
       "*Risposte corrette a questa domanda:* 1/1 - 100.0%"
      ],
      "text/plain": [
       "<IPython.core.display.Markdown object>"
      ]
     },
     "metadata": {},
     "output_type": "display_data"
    },
    {
     "data": {
      "text/markdown": [
       "## A quale valore è uguale $\\sin(\\alpha-\\beta)$?\n",
       "\n",
       "**Risposta:** $\\sin(\\alpha)\\cos(\\beta)-\\cos(\\alpha)\\sin(\\beta)$\n",
       "\n",
       "*Risposte corrette a questa domanda:* 1/1 - 100.0%"
      ],
      "text/plain": [
       "<IPython.core.display.Markdown object>"
      ]
     },
     "metadata": {},
     "output_type": "display_data"
    },
    {
     "data": {
      "text/markdown": [
       "## Per duplicazione, a cosa equivale $\\sin(2\\alpha)$?\n",
       "\n",
       "**Risposta:** $2\\sin(\\alpha)\\cos(\\alpha)$\n",
       "\n",
       "*Risposte corrette a questa domanda:* 1/1 - 100.0%"
      ],
      "text/plain": [
       "<IPython.core.display.Markdown object>"
      ]
     },
     "metadata": {},
     "output_type": "display_data"
    },
    {
     "data": {
      "text/markdown": [
       "## Per bisezione, a cosa equivale $|\\cos(\\frac{\\alpha}{2})|$?\n",
       "\n",
       "**Risposta:** $\\sqrt{\\frac{1+\\cos(\\alpha)}{2}}$\n",
       "\n",
       "*Risposte corrette a questa domanda:* 2/2 - 100.0%"
      ],
      "text/plain": [
       "<IPython.core.display.Markdown object>"
      ]
     },
     "metadata": {},
     "output_type": "display_data"
    },
    {
     "data": {
      "text/markdown": [
       "## Per bisezione, a cosa equivale $|\\sin(\\frac{\\alpha}{2})|$?\n",
       "\n",
       "**Risposta:** $\\sqrt{\\frac{1-\\cos(\\alpha)}{2}}$\n",
       "\n",
       "*Risposte corrette a questa domanda:* 1/1 - 100.0%"
      ],
      "text/plain": [
       "<IPython.core.display.Markdown object>"
      ]
     },
     "metadata": {},
     "output_type": "display_data"
    },
    {
     "data": {
      "text/markdown": [
       "## Quale è il valore di $\\sinh(x)$?\n",
       "\n",
       "**Risposta:** $\\frac{e^x-e^{-x}}{2}$\n",
       "\n",
       "*Risposte corrette a questa domanda:* 1/1 - 100.0%"
      ],
      "text/plain": [
       "<IPython.core.display.Markdown object>"
      ]
     },
     "metadata": {},
     "output_type": "display_data"
    },
    {
     "data": {
      "text/markdown": [
       "## Quale è il valore di $\\cosh(x)$?\n",
       "\n",
       "**Risposta:** $\\frac{e^x+e^{-x}}{2}$\n",
       "\n",
       "*Risposte corrette a questa domanda:* 1/1 - 100.0%"
      ],
      "text/plain": [
       "<IPython.core.display.Markdown object>"
      ]
     },
     "metadata": {},
     "output_type": "display_data"
    },
    {
     "data": {
      "text/markdown": [
       "## Come si risolve la disequazione $\\sqrt[n]{f(x)}>g(x)$ con $n$ pari?\n",
       "\n",
       "**Risposta:** $\\begin{cases}f(x)\\ge0\\\\g(x)\\ge 0\\\\f(x)>g(x)^n\\end{cases}\\cup\\begin{cases}f(x)>0\\\\g(x)<0\\end{cases}$\n",
       "\n",
       "*Risposte corrette a questa domanda:* 2/2 - 100.0%"
      ],
      "text/plain": [
       "<IPython.core.display.Markdown object>"
      ]
     },
     "metadata": {},
     "output_type": "display_data"
    }
   ],
   "source": [
    "import Quizzer\n",
    "\n",
    "tester=Quizzer.TestClass(\"feg\",mode=Quizzer.SMART)\n",
    "\n",
    "tester.elaborateDifficult()"
   ]
  }
 ],
 "metadata": {
  "interpreter": {
   "hash": "e083722571f9f0ec84a5baf48f347dbe11928b35218b5666fd9f4885e1b3b744"
  },
  "kernelspec": {
   "display_name": "Python 3 (ipykernel)",
   "language": "python",
   "name": "python3"
  },
  "language_info": {
   "codemirror_mode": {
    "name": "ipython",
    "version": 3
   },
   "file_extension": ".py",
   "mimetype": "text/x-python",
   "name": "python",
   "nbconvert_exporter": "python",
   "pygments_lexer": "ipython3",
   "version": "3.9.0"
  }
 },
 "nbformat": 4,
 "nbformat_minor": 4
}
