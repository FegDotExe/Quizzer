{
 "cells": [
  {
   "cell_type": "code",
   "execution_count": 2,
   "metadata": {},
   "outputs": [],
   "source": [
    "tester=Quizzer.TestClass(\"math\")\n",
    "tester.clearStats()"
   ]
  },
  {
   "cell_type": "markdown",
   "metadata": {},
   "source": [
    "# Actual quiz"
   ]
  },
  {
   "cell_type": "markdown",
   "metadata": {},
   "source": [
    "## Standard quiz"
   ]
  },
  {
   "cell_type": "code",
   "execution_count": null,
   "metadata": {},
   "outputs": [],
   "source": [
    "import Quizzer\n",
    "\n",
    "tester=Quizzer.TestClass(\"math\",mode=Quizzer.COMPLETEPOOL)\n",
    "\n",
    "result=None\n",
    "while result!=0:\n",
    "    result=tester.getUniqueQuestion()\n",
    "\n",
    "tester.elaborateResults()"
   ]
  },
  {
   "cell_type": "markdown",
   "metadata": {},
   "source": [
    "## Revise the most difficult questions"
   ]
  },
  {
   "cell_type": "code",
   "execution_count": null,
   "metadata": {
    "tags": []
   },
   "outputs": [],
   "source": [
    "import Quizzer\n",
    "\n",
    "tester=Quizzer.TestClass(\"math\",mode=Quizzer.MOSTDIFFICULT)\n",
    "\n",
    "result=None\n",
    "while result!=0:\n",
    "    result=tester.getUniqueQuestion()\n",
    "\n",
    "tester.elaborateResults()"
   ]
  },
  {
   "cell_type": "markdown",
   "metadata": {},
   "source": [
    "## Unanswered"
   ]
  },
  {
   "cell_type": "code",
   "execution_count": null,
   "metadata": {},
   "outputs": [],
   "source": [
    "import Quizzer\n",
    "\n",
    "tester=Quizzer.TestClass(\"math\",mode=Quizzer.UNANSWERED)\n",
    "\n",
    "result=None\n",
    "while result!=0:\n",
    "    result=tester.getUniqueQuestion()\n",
    "\n",
    "tester.elaborateResults()"
   ]
  },
  {
   "cell_type": "markdown",
   "metadata": {},
   "source": [
    "## Smart"
   ]
  },
  {
   "cell_type": "code",
   "execution_count": null,
   "metadata": {},
   "outputs": [],
   "source": [
    "import Quizzer\n",
    "\n",
    "tester=Quizzer.TestClass(\"math\",mode=Quizzer.SMART)\n",
    "\n",
    "result=None\n",
    "while result!=0:\n",
    "    result=tester.getUniqueQuestion()\n",
    "\n",
    "tester.elaborateResults()"
   ]
  }
 ],
 "metadata": {
  "interpreter": {
   "hash": "e083722571f9f0ec84a5baf48f347dbe11928b35218b5666fd9f4885e1b3b744"
  },
  "kernelspec": {
   "display_name": "Python 3 (ipykernel)",
   "language": "python",
   "name": "python3"
  },
  "language_info": {
   "codemirror_mode": {
    "name": "ipython",
    "version": 3
   },
   "file_extension": ".py",
   "mimetype": "text/x-python",
   "name": "python",
   "nbconvert_exporter": "python",
   "pygments_lexer": "ipython3",
   "version": "3.9.0"
  }
 },
 "nbformat": 4,
 "nbformat_minor": 4
}
