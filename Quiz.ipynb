{
 "cells": [
  {
   "cell_type": "code",
   "execution_count": 2,
   "metadata": {},
   "outputs": [],
   "source": [
    "tester=Quizzer.TestClass(\"math\")\n",
    "tester.clearStats()"
   ]
  },
  {
   "cell_type": "code",
   "execution_count": 1,
   "metadata": {
    "tags": []
   },
   "outputs": [
    {
     "data": {
      "text/latex": [
       "4/5 - 80.0%"
      ],
      "text/plain": [
       "<IPython.core.display.Latex object>"
      ]
     },
     "metadata": {},
     "output_type": "display_data"
    },
    {
     "data": {
      "text/markdown": [
       "# Corrette"
      ],
      "text/plain": [
       "<IPython.core.display.Markdown object>"
      ]
     },
     "metadata": {},
     "output_type": "display_data"
    },
    {
     "data": {
      "text/markdown": [
       "## Come si risolve la disequazione $\\sqrt[n]{f(x)}>g(x)$ con $n$ pari?\n",
       "\n",
       "**Risposta:** $\\begin{cases}f(x)\\ge0\\\\g(x)\\ge 0\\\\f(x)>g(x)^n\\end{cases}\\cup\\begin{cases}f(x)>0\\\\g(x)<0\\end{cases}$\n",
       "\n",
       "*Risposte corrette a questa domanda:* 1/1 - 100.0%"
      ],
      "text/plain": [
       "<IPython.core.display.Markdown object>"
      ]
     },
     "metadata": {},
     "output_type": "display_data"
    },
    {
     "data": {
      "text/markdown": [
       "## Quanto vale $\\lim\\limits_{x\\to0}\\frac{\\tan x-\\sin x}{x^3}$?\n",
       "\n",
       "**Risposta:** $\\frac{1}{2}$\n",
       "\n",
       "*Risposte corrette a questa domanda:* 5/7 - 71.42857142857143%"
      ],
      "text/plain": [
       "<IPython.core.display.Markdown object>"
      ]
     },
     "metadata": {},
     "output_type": "display_data"
    },
    {
     "data": {
      "text/markdown": [
       "## A quale valore di $\\sin$ è uguale $\\sin(-t)$?\n",
       "\n",
       "**Risposta:** $-\\sin(t)$\n",
       "\n",
       "*Risposte corrette a questa domanda:* 4/4 - 100.0%"
      ],
      "text/plain": [
       "<IPython.core.display.Markdown object>"
      ]
     },
     "metadata": {},
     "output_type": "display_data"
    },
    {
     "data": {
      "text/markdown": [
       "## Quanto vale $\\lim\\limits_{x\\to0}\\tan x-\\sin x$?\n",
       "\n",
       "**Risposta:** $\\frac{1}{2}x^3+o(x^3)$\n",
       "\n",
       "*Risposte corrette a questa domanda:* 3/3 - 100.0%"
      ],
      "text/plain": [
       "<IPython.core.display.Markdown object>"
      ]
     },
     "metadata": {},
     "output_type": "display_data"
    },
    {
     "data": {
      "text/markdown": [
       "# Sbagliate"
      ],
      "text/plain": [
       "<IPython.core.display.Markdown object>"
      ]
     },
     "metadata": {},
     "output_type": "display_data"
    },
    {
     "data": {
      "text/markdown": [
       "## Come si risolve la disequazione $\\sqrt[n]{f(x)}\\le g(x)$ con $n$ pari?\n",
       "\n",
       "**Risposta:** $\\begin{cases}f(x)\\ge 0\\\\g(x)\\ge 0\\\\f(x)\\le g(x)^n\\end{cases}$\n",
       "\n",
       "*Risposte corrette a questa domanda:* 0/1 - 0.0%"
      ],
      "text/plain": [
       "<IPython.core.display.Markdown object>"
      ]
     },
     "metadata": {},
     "output_type": "display_data"
    }
   ],
   "source": [
    "import Quizzer\n",
    "\n",
    "tester=Quizzer.TestClass(\"math\")\n",
    "\n",
    "result=None\n",
    "while result!=0:\n",
    "    result=tester.getUniqueQuestion()\n",
    "\n",
    "tester.elaborateResults()"
   ]
  },
  {
   "cell_type": "code",
   "execution_count": 2,
   "metadata": {},
   "outputs": [
    {
     "data": {
      "text/latex": [
       "1/1 - 100.0%"
      ],
      "text/plain": [
       "<IPython.core.display.Latex object>"
      ]
     },
     "metadata": {},
     "output_type": "display_data"
    },
    {
     "data": {
      "text/markdown": [
       "# Corrette"
      ],
      "text/plain": [
       "<IPython.core.display.Markdown object>"
      ]
     },
     "metadata": {},
     "output_type": "display_data"
    },
    {
     "data": {
      "text/markdown": [
       "## Come si risolve la disequazione $\\sqrt[n]{f(x)}>g(x)$ con $n$ pari?\n",
       "\n",
       "**Risposta:** $\\begin{cases}f(x)\\ge0\\\\g(x)\\ge 0\\\\f(x)>g(x)^n\\end{cases}\\cup\\begin{cases}f(x)>0\\\\g(x)<0\\end{cases}$\n",
       "\n",
       "*Risposte corrette a questa domanda:* 1/1 - 100.0%"
      ],
      "text/plain": [
       "<IPython.core.display.Markdown object>"
      ]
     },
     "metadata": {},
     "output_type": "display_data"
    },
    {
     "data": {
      "text/markdown": [
       "# Sbagliate"
      ],
      "text/plain": [
       "<IPython.core.display.Markdown object>"
      ]
     },
     "metadata": {},
     "output_type": "display_data"
    }
   ],
   "source": [
    "import Quizzer\n",
    "\n",
    "tester=Quizzer.TestClass(\"test\")\n",
    "tester.clearStats()\n",
    "\n",
    "result=None\n",
    "while result!=0:\n",
    "    result=tester.getUniqueQuestion()\n",
    "\n",
    "tester.elaborateResults(export=False)"
   ]
  },
  {
   "cell_type": "markdown",
   "metadata": {},
   "source": [
    "$\\begin{cases}f(x)\\ge0\\\\g(x)\\ge 0\\\\f(x)>g(x)^n\\end{cases}\\cup\\begin{cases}f(x)>0\\\\g(x)<0\\end{cases}$"
   ]
  }
 ],
 "metadata": {
  "interpreter": {
   "hash": "e083722571f9f0ec84a5baf48f347dbe11928b35218b5666fd9f4885e1b3b744"
  },
  "kernelspec": {
   "display_name": "Python 3 (ipykernel)",
   "language": "python",
   "name": "python3"
  },
  "language_info": {
   "codemirror_mode": {
    "name": "ipython",
    "version": 3
   },
   "file_extension": ".py",
   "mimetype": "text/x-python",
   "name": "python",
   "nbconvert_exporter": "python",
   "pygments_lexer": "ipython3",
   "version": "3.9.0"
  }
 },
 "nbformat": 4,
 "nbformat_minor": 4
}
